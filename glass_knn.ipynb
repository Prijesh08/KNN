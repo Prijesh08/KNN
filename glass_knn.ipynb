{
 "cells": [
  {
   "cell_type": "code",
   "execution_count": 1,
   "metadata": {},
   "outputs": [],
   "source": [
    "import pandas as pd\n",
    "import numpy as np\n",
    "import matplotlib.pyplot as plt\n",
    "import warnings\n",
    "warnings.simplefilter('ignore')"
   ]
  },
  {
   "cell_type": "code",
   "execution_count": 2,
   "metadata": {},
   "outputs": [],
   "source": [
    "data=pd.read_csv('glass.csv')\n",
    "# data"
   ]
  },
  {
   "cell_type": "code",
   "execution_count": 3,
   "metadata": {},
   "outputs": [],
   "source": [
    "#Standardize the data\n",
    "from sklearn.preprocessing import StandardScaler"
   ]
  },
  {
   "cell_type": "code",
   "execution_count": 4,
   "metadata": {},
   "outputs": [
    {
     "data": {
      "text/plain": [
       "StandardScaler()"
      ]
     },
     "execution_count": 4,
     "metadata": {},
     "output_type": "execute_result"
    }
   ],
   "source": [
    "std_scaling= StandardScaler()\n",
    "std_scaling.fit(data.drop('Type',axis=1))"
   ]
  },
  {
   "cell_type": "code",
   "execution_count": 5,
   "metadata": {},
   "outputs": [],
   "source": [
    "std_scaled=std_scaling.transform(data.drop('Type',axis=1))\n",
    "\n",
    "# making DataFrame\n",
    "scaled_data = pd.DataFrame(std_scaled,columns=data.columns[:-1])\n",
    "# scaled_data"
   ]
  },
  {
   "cell_type": "code",
   "execution_count": 6,
   "metadata": {},
   "outputs": [],
   "source": [
    "#train test split\n",
    "from sklearn.model_selection import train_test_split\n",
    "x_train,x_test,y_train,y_test=train_test_split(scaled_data,data['Type'],test_size=0.2)"
   ]
  },
  {
   "cell_type": "code",
   "execution_count": 7,
   "metadata": {},
   "outputs": [],
   "source": [
    "#knn algo.\n",
    "from sklearn.neighbors import KNeighborsClassifier\n",
    "knn = KNeighborsClassifier(n_neighbors=1)\n",
    "knn.fit(x_train,y_train)\n",
    "pred= knn.predict(x_test)"
   ]
  },
  {
   "cell_type": "code",
   "execution_count": 8,
   "metadata": {},
   "outputs": [
    {
     "data": {
      "text/plain": [
       "0.7209302325581395"
      ]
     },
     "execution_count": 8,
     "metadata": {},
     "output_type": "execute_result"
    }
   ],
   "source": [
    "np.mean(pred==y_test)"
   ]
  },
  {
   "cell_type": "code",
   "execution_count": 9,
   "metadata": {},
   "outputs": [
    {
     "data": {
      "text/plain": [
       "array([[11,  1,  2,  0,  0,  0],\n",
       "       [ 0, 12,  3,  0,  0,  0],\n",
       "       [ 1,  2,  1,  0,  0,  0],\n",
       "       [ 0,  0,  0,  1,  0,  0],\n",
       "       [ 0,  1,  0,  0,  2,  1],\n",
       "       [ 0,  0,  0,  0,  1,  4]], dtype=int64)"
      ]
     },
     "execution_count": 9,
     "metadata": {},
     "output_type": "execute_result"
    }
   ],
   "source": [
    "#prediction and evaluation\n",
    "from sklearn.metrics import classification_report,confusion_matrix\n",
    "confusion_matrix(y_test,pred)"
   ]
  },
  {
   "cell_type": "code",
   "execution_count": 10,
   "metadata": {},
   "outputs": [
    {
     "name": "stdout",
     "output_type": "stream",
     "text": [
      "              precision    recall  f1-score   support\n",
      "\n",
      "           1       0.79      0.92      0.85        12\n",
      "           2       0.80      0.75      0.77        16\n",
      "           3       0.25      0.17      0.20         6\n",
      "           5       1.00      1.00      1.00         1\n",
      "           6       0.50      0.67      0.57         3\n",
      "           7       0.80      0.80      0.80         5\n",
      "\n",
      "    accuracy                           0.72        43\n",
      "   macro avg       0.69      0.72      0.70        43\n",
      "weighted avg       0.70      0.72      0.71        43\n",
      "\n"
     ]
    }
   ],
   "source": [
    "print(classification_report(pred,y_test))"
   ]
  },
  {
   "cell_type": "code",
   "execution_count": 11,
   "metadata": {},
   "outputs": [
    {
     "name": "stdout",
     "output_type": "stream",
     "text": [
      "[0.28, 0.26, 0.26, 0.33, 0.35, 0.37, 0.35, 0.37, 0.3, 0.28, 0.28, 0.3, 0.3, 0.3, 0.3, 0.3, 0.35, 0.37, 0.35, 0.33, 0.33, 0.35, 0.4, 0.37, 0.42, 0.4, 0.4, 0.35, 0.4, 0.4, 0.37, 0.42, 0.42, 0.42, 0.37, 0.4, 0.37, 0.44, 0.44]\n"
     ]
    }
   ],
   "source": [
    "error_rate=[]\n",
    "for i in range(1,40):\n",
    "    knn_model=KNeighborsClassifier(n_neighbors=i)\n",
    "    knn_model.fit(x_train,y_train)\n",
    "    pred_i=knn_model.predict(x_test)\n",
    "    error_rate.append(np.mean(pred_i!=y_test).round(2))\n",
    "print(error_rate)"
   ]
  },
  {
   "cell_type": "code",
   "execution_count": 12,
   "metadata": {},
   "outputs": [
    {
     "data": {
      "image/png": "[encoded data removed]",
      "text/plain": [
       "<Figure size 720x432 with 1 Axes>"
      ]
     },
     "metadata": {
      "needs_background": "light"
     },
     "output_type": "display_data"
    }
   ],
   "source": [
    "plt.figure(figsize=(10,6))\n",
    "plt.plot(range(1,40),error_rate,color='blue',linestyle='dashed',marker='o',markerfacecolor='red',markersize=10)\n",
    "plt.xlabel('K - Values')\n",
    "plt.ylabel('Error Rate')\n",
    "plt.title('Error rate vs. K value')\n",
    "plt.show()"
   ]
  },
  {
   "cell_type": "code",
   "execution_count": 13,
   "metadata": {},
   "outputs": [
    {
     "name": "stdout",
     "output_type": "stream",
     "text": [
      "accuracy = 0.7441860465116279\n",
      "[[13  0  1  0  0  0]\n",
      " [ 2 12  1  0  0  0]\n",
      " [ 3  0  1  0  0  0]\n",
      " [ 0  0  0  1  0  0]\n",
      " [ 0  2  0  1  1  0]\n",
      " [ 0  0  0  0  1  4]]\n",
      "              precision    recall  f1-score   support\n",
      "\n",
      "           1       0.93      0.72      0.81        18\n",
      "           2       0.80      0.86      0.83        14\n",
      "           3       0.25      0.33      0.29         3\n",
      "           5       1.00      0.50      0.67         2\n",
      "           6       0.25      0.50      0.33         2\n",
      "           7       0.80      1.00      0.89         4\n",
      "\n",
      "    accuracy                           0.74        43\n",
      "   macro avg       0.67      0.65      0.64        43\n",
      "weighted avg       0.80      0.74      0.76        43\n",
      "\n"
     ]
    }
   ],
   "source": [
    "# use k=2:\n",
    "from sklearn.neighbors import KNeighborsClassifier\n",
    "knn = KNeighborsClassifier(n_neighbors=2)\n",
    "knn.fit(x_train,y_train)\n",
    "pred= knn.predict(x_test)\n",
    "print('accuracy =',np.mean(pred==y_test))\n",
    "\n",
    "print(confusion_matrix(y_test,pred))\n",
    "\n",
    "print(classification_report(pred,y_test))"
   ]
  },
  {
   "cell_type": "code",
   "execution_count": 14,
   "metadata": {},
   "outputs": [],
   "source": [
    "# when k=2, accuracy is 74%"
   ]
  },
  {
   "cell_type": "code",
   "execution_count": null,
   "metadata": {},
   "outputs": [],
   "source": []
  }
 ],
 "metadata": {
  "kernelspec": {
   "display_name": "Python 3",
   "language": "python",
   "name": "python3"
  },
  "language_info": {
   "codemirror_mode": {
    "name": "ipython",
    "version": 3
   },
   "file_extension": ".py",
   "mimetype": "text/x-python",
   "name": "python",
   "nbconvert_exporter": "python",
   "pygments_lexer": "ipython3",
   "version": "3.8.3"
  }
 },
 "nbformat": 4,
 "nbformat_minor": 4
}
